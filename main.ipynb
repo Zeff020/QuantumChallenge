{
 "cells": [
  {
   "cell_type": "code",
   "execution_count": 6,
   "metadata": {},
   "outputs": [],
   "source": [
    "from hhl import HHL\n",
    "from utils import Zero, EigsQPE\n",
    "import numpy as np"
   ]
  },
  {
   "cell_type": "code",
   "execution_count": 7,
   "metadata": {},
   "outputs": [
    {
     "ename": "AttributeError",
     "evalue": "type object 'HHL' has no attribute 'set_api'",
     "output_type": "error",
     "traceback": [
      "\u001b[1;31m---------------------------------------------------------------------------\u001b[0m",
      "\u001b[1;31mAttributeError\u001b[0m                            Traceback (most recent call last)",
      "\u001b[1;32m<ipython-input-7-4c4586549d09>\u001b[0m in \u001b[0;36m<module>\u001b[1;34m\u001b[0m\n\u001b[0;32m      3\u001b[0m \u001b[1;31m# Creating Programs create your first QuantumProgram object instance.\u001b[0m\u001b[1;33m\u001b[0m\u001b[1;33m\u001b[0m\u001b[1;33m\u001b[0m\u001b[0m\n\u001b[0;32m      4\u001b[0m \u001b[1;33m\u001b[0m\u001b[0m\n\u001b[1;32m----> 5\u001b[1;33m \u001b[0mHHL\u001b[0m\u001b[1;33m.\u001b[0m\u001b[0mset_api\u001b[0m\u001b[1;33m(\u001b[0m\u001b[0mQconfig\u001b[0m\u001b[1;33m.\u001b[0m\u001b[0mAPItoken\u001b[0m\u001b[1;33m,\u001b[0m \u001b[0mQconfig\u001b[0m\u001b[1;33m.\u001b[0m\u001b[0mconfig\u001b[0m\u001b[1;33m[\u001b[0m\u001b[1;34m\"url\"\u001b[0m\u001b[1;33m]\u001b[0m\u001b[1;33m,\u001b[0m \u001b[0mverify\u001b[0m\u001b[1;33m=\u001b[0m\u001b[1;32mFalse\u001b[0m\u001b[1;33m)\u001b[0m\u001b[1;33m\u001b[0m\u001b[1;33m\u001b[0m\u001b[0m\n\u001b[0m",
      "\u001b[1;31mAttributeError\u001b[0m: type object 'HHL' has no attribute 'set_api'"
     ]
    }
   ],
   "source": [
    "import Qconfig\n",
    "\n",
    "# Creating Programs create your first QuantumProgram object instance.\n",
    "\n",
    "HHL.set_api(Qconfig.APItoken, Qconfig.config[\"url\"], verify=False)"
   ]
  },
  {
   "cell_type": "code",
   "execution_count": 8,
   "metadata": {},
   "outputs": [],
   "source": [
    "Linear_System_Matrix = np.array(\n",
    "          [\n",
    "              [0, 2, 0, 1], \n",
    "          \n",
    "              [0, 0, 120, 0],\n",
    "              \n",
    "              [0, 0, 0, (1/200)],\n",
    "              \n",
    "              [0, 0, 0, 0]\n",
    "          \n",
    "          ]\n",
    "\n",
    "        )\n",
    "\n",
    "Linear_System_Vector = np.array(\n",
    "    [\n",
    "        1, 0, 0, -1\n",
    "    ]\n",
    "        )"
   ]
  },
  {
   "cell_type": "code",
   "execution_count": 10,
   "metadata": {},
   "outputs": [],
   "source": [
    "initialstate = Zero(4)"
   ]
  },
  {
   "cell_type": "code",
   "execution_count": 11,
   "metadata": {},
   "outputs": [],
   "source": [
    "initialstate_constructed = initialstate.construct_circuit('circuit')"
   ]
  },
  {
   "cell_type": "code",
   "execution_count": 12,
   "metadata": {},
   "outputs": [
    {
     "ename": "AttributeError",
     "evalue": "'Zero' object has no attribute 'type'",
     "output_type": "error",
     "traceback": [
      "\u001b[1;31m---------------------------------------------------------------------------\u001b[0m",
      "\u001b[1;31mAttributeError\u001b[0m                            Traceback (most recent call last)",
      "\u001b[1;32m<ipython-input-12-3200f112d130>\u001b[0m in \u001b[0;36m<module>\u001b[1;34m\u001b[0m\n\u001b[1;32m----> 1\u001b[1;33m \u001b[0minitialstate\u001b[0m\u001b[1;33m.\u001b[0m\u001b[0mtype\u001b[0m\u001b[1;33m(\u001b[0m\u001b[1;33m)\u001b[0m\u001b[1;33m\u001b[0m\u001b[1;33m\u001b[0m\u001b[0m\n\u001b[0m",
      "\u001b[1;31mAttributeError\u001b[0m: 'Zero' object has no attribute 'type'"
     ]
    }
   ],
   "source": [
    "initialstate.type()"
   ]
  },
  {
   "cell_type": "code",
   "execution_count": 13,
   "metadata": {
    "scrolled": true
   },
   "outputs": [],
   "source": [
    "Linear_System_Matrix, Linear_System_Vector =  HHL.expand_to_hermitian(Linear_System_Matrix,Linear_System_Vector)"
   ]
  },
  {
   "cell_type": "code",
   "execution_count": 17,
   "metadata": {},
   "outputs": [],
   "source": [
    "HHL_Solver = HHL(Linear_System_Matrix, Linear_System_Vector, num_q=4, init_state=initialstate, eigs=EigsQPE)"
   ]
  },
  {
   "cell_type": "code",
   "execution_count": 18,
   "metadata": {},
   "outputs": [
    {
     "name": "stdout",
     "output_type": "stream",
     "text": [
      "AquaError    <class 'type'>\n",
      "Eigenvalues    <class 'abc.ABCMeta'>\n",
      "EigsQPE    <class 'abc.ABCMeta'>\n",
      "InitialState    <class 'abc.ABCMeta'>\n",
      "Operator    <class 'type'>\n",
      "PhaseEstimationCircuit    <class 'type'>\n",
      "Pluggable    <class 'abc.ABCMeta'>\n",
      "PluggableType    <class 'enum.EnumMeta'>\n",
      "QuantumCircuit    <class 'type'>\n",
      "QuantumRegister    <class 'type'>\n",
      "Zero    <class 'abc.ABCMeta'>\n",
      "__builtins__    <class 'dict'>\n",
      "__cached__    <class 'str'>\n",
      "__doc__    <class 'NoneType'>\n",
      "__file__    <class 'str'>\n",
      "__loader__    <class '_frozen_importlib_external.SourceFileLoader'>\n",
      "__name__    <class 'str'>\n",
      "__package__    <class 'str'>\n",
      "__spec__    <class '_frozen_importlib.ModuleSpec'>\n",
      "get_pluggable_class    <class 'function'>\n",
      "np    <class 'module'>\n"
     ]
    }
   ],
   "source": [
    "for i in dir(utils):\n",
    "   print(i,\"  \",type(getattr(utils,i)))"
   ]
  },
  {
   "cell_type": "code",
   "execution_count": 19,
   "metadata": {},
   "outputs": [
    {
     "ename": "AttributeError",
     "evalue": "'str' object has no attribute '_operator'",
     "output_type": "error",
     "traceback": [
      "\u001b[1;31m---------------------------------------------------------------------------\u001b[0m",
      "\u001b[1;31mAttributeError\u001b[0m                            Traceback (most recent call last)",
      "\u001b[1;32m<ipython-input-19-e720198c0e72>\u001b[0m in \u001b[0;36m<module>\u001b[1;34m\u001b[0m\n\u001b[1;32m----> 1\u001b[1;33m \u001b[0mHHL_Solver_Circuit\u001b[0m \u001b[1;33m=\u001b[0m \u001b[0mHHL_Solver\u001b[0m\u001b[1;33m.\u001b[0m\u001b[0mconstruct_circuit\u001b[0m\u001b[1;33m(\u001b[0m\u001b[0mmeasurement\u001b[0m \u001b[1;33m=\u001b[0m \u001b[1;32mFalse\u001b[0m\u001b[1;33m)\u001b[0m\u001b[1;33m\u001b[0m\u001b[1;33m\u001b[0m\u001b[0m\n\u001b[0m",
      "\u001b[1;32m~\\Desktop\\q-challenge\\QuantumChallenge\\hhl.py\u001b[0m in \u001b[0;36mconstruct_circuit\u001b[1;34m(self, measurement)\u001b[0m\n\u001b[0;32m    235\u001b[0m \u001b[1;33m\u001b[0m\u001b[0m\n\u001b[0;32m    236\u001b[0m         \u001b[1;31m# EigenvalueEstimation (QPE)\u001b[0m\u001b[1;33m\u001b[0m\u001b[1;33m\u001b[0m\u001b[1;33m\u001b[0m\u001b[0m\n\u001b[1;32m--> 237\u001b[1;33m         \u001b[0mqc\u001b[0m \u001b[1;33m+=\u001b[0m \u001b[0mself\u001b[0m\u001b[1;33m.\u001b[0m\u001b[0m_eigs\u001b[0m\u001b[1;33m.\u001b[0m\u001b[0mconstruct_circuit\u001b[0m\u001b[1;33m(\u001b[0m\u001b[1;34m\"circuit\"\u001b[0m\u001b[1;33m,\u001b[0m \u001b[0mq\u001b[0m\u001b[1;33m)\u001b[0m\u001b[1;33m\u001b[0m\u001b[1;33m\u001b[0m\u001b[0m\n\u001b[0m\u001b[0;32m    238\u001b[0m         \u001b[0ma\u001b[0m \u001b[1;33m=\u001b[0m \u001b[0mself\u001b[0m\u001b[1;33m.\u001b[0m\u001b[0m_eigs\u001b[0m\u001b[1;33m.\u001b[0m\u001b[0m_output_register\u001b[0m\u001b[1;33m\u001b[0m\u001b[1;33m\u001b[0m\u001b[0m\n\u001b[0;32m    239\u001b[0m \u001b[1;33m\u001b[0m\u001b[0m\n",
      "\u001b[1;32m~\\Desktop\\q-challenge\\QuantumChallenge\\utils.py\u001b[0m in \u001b[0;36mconstruct_circuit\u001b[1;34m(self, mode, register)\u001b[0m\n\u001b[0;32m    200\u001b[0m \u001b[1;33m\u001b[0m\u001b[0m\n\u001b[0;32m    201\u001b[0m         pe = PhaseEstimationCircuit(\n\u001b[1;32m--> 202\u001b[1;33m             \u001b[0moperator\u001b[0m\u001b[1;33m=\u001b[0m\u001b[0mself\u001b[0m\u001b[1;33m.\u001b[0m\u001b[0m_operator\u001b[0m\u001b[1;33m,\u001b[0m \u001b[0mstate_in\u001b[0m\u001b[1;33m=\u001b[0m\u001b[1;32mNone\u001b[0m\u001b[1;33m,\u001b[0m \u001b[0miqft\u001b[0m\u001b[1;33m=\u001b[0m\u001b[0mself\u001b[0m\u001b[1;33m.\u001b[0m\u001b[0m_iqft\u001b[0m\u001b[1;33m,\u001b[0m\u001b[1;33m\u001b[0m\u001b[1;33m\u001b[0m\u001b[0m\n\u001b[0m\u001b[0;32m    203\u001b[0m             \u001b[0mnum_time_slices\u001b[0m\u001b[1;33m=\u001b[0m\u001b[0mself\u001b[0m\u001b[1;33m.\u001b[0m\u001b[0m_num_time_slices\u001b[0m\u001b[1;33m,\u001b[0m \u001b[0mnum_ancillae\u001b[0m\u001b[1;33m=\u001b[0m\u001b[0mself\u001b[0m\u001b[1;33m.\u001b[0m\u001b[0m_num_ancillae\u001b[0m\u001b[1;33m,\u001b[0m\u001b[1;33m\u001b[0m\u001b[1;33m\u001b[0m\u001b[0m\n\u001b[0;32m    204\u001b[0m             \u001b[0mexpansion_mode\u001b[0m\u001b[1;33m=\u001b[0m\u001b[0mself\u001b[0m\u001b[1;33m.\u001b[0m\u001b[0m_expansion_mode\u001b[0m\u001b[1;33m,\u001b[0m \u001b[0mexpansion_order\u001b[0m\u001b[1;33m=\u001b[0m\u001b[0mself\u001b[0m\u001b[1;33m.\u001b[0m\u001b[0m_expansion_order\u001b[0m\u001b[1;33m,\u001b[0m\u001b[1;33m\u001b[0m\u001b[1;33m\u001b[0m\u001b[0m\n",
      "\u001b[1;31mAttributeError\u001b[0m: 'str' object has no attribute '_operator'"
     ]
    }
   ],
   "source": [
    "HHL_Solver_Circuit = HHL_Solver.construct_circuit(measurement = False)"
   ]
  },
  {
   "cell_type": "code",
   "execution_count": 41,
   "metadata": {},
   "outputs": [
    {
     "ename": "AttributeError",
     "evalue": "'function' object has no attribute '_statevector_simulation'",
     "output_type": "error",
     "traceback": [
      "\u001b[1;31m---------------------------------------------------------------------------\u001b[0m",
      "\u001b[1;31mAttributeError\u001b[0m                            Traceback (most recent call last)",
      "\u001b[1;32m<ipython-input-41-ecff1a17975a>\u001b[0m in \u001b[0;36m<module>\u001b[1;34m\u001b[0m\n\u001b[1;32m----> 1\u001b[1;33m \u001b[0mHHL_Solver_Circuit_Finished\u001b[0m \u001b[1;33m=\u001b[0m \u001b[0mHHL_Solver_circuit\u001b[0m\u001b[1;33m.\u001b[0m\u001b[0m_statevector_simulation\u001b[0m\u001b[1;33m\u001b[0m\u001b[1;33m\u001b[0m\u001b[0m\n\u001b[0m",
      "\u001b[1;31mAttributeError\u001b[0m: 'function' object has no attribute '_statevector_simulation'"
     ]
    }
   ],
   "source": [
    "HHL_Solver_Circuit_Finished = HHL_Solver_circuit._statevector_simulation"
   ]
  },
  {
   "cell_type": "code",
   "execution_count": null,
   "metadata": {},
   "outputs": [],
   "source": []
  }
 ],
 "metadata": {
  "kernelspec": {
   "display_name": "Python 3",
   "language": "python",
   "name": "python3"
  },
  "language_info": {
   "codemirror_mode": {
    "name": "ipython",
    "version": 3
   },
   "file_extension": ".py",
   "mimetype": "text/x-python",
   "name": "python",
   "nbconvert_exporter": "python",
   "pygments_lexer": "ipython3",
   "version": "3.6.7"
  }
 },
 "nbformat": 4,
 "nbformat_minor": 2
}
